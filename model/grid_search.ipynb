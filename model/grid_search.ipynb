{
 "cells": [
  {
   "cell_type": "markdown",
   "id": "de632e6e-b212-4052-ada3-6fb5cc896c5c",
   "metadata": {},
   "source": [
    "# Grid-search para otimização dos hiper-parâmetros do modelo SVM"
   ]
  },
  {
   "cell_type": "code",
   "execution_count": 1,
   "id": "10571358-9ba5-4160-933b-911c83013df2",
   "metadata": {},
   "outputs": [],
   "source": [
    "import pandas as pd\n",
    "import sklearn\n",
    "import joblib\n",
    "from sklearn.model_selection import train_test_split, GridSearchCV"
   ]
  },
  {
   "cell_type": "markdown",
   "id": "dcbcdfb4-8b87-48d4-a422-d5a08eaec614",
   "metadata": {},
   "source": [
    "- Selecionando a base de dados e divisão dos conjuntos"
   ]
  },
  {
   "cell_type": "code",
   "execution_count": null,
   "id": "4c1ca756-c050-43c7-8c9c-8b7164f5af77",
   "metadata": {},
   "outputs": [],
   "source": [
    "dataset = pd.read_csv(\"dataset/new-dataset-merged.csv\")"
   ]
  },
  {
   "cell_type": "code",
   "execution_count": null,
   "id": "21ce90a7-cf82-4fb6-ad32-79fe74d40a40",
   "metadata": {},
   "outputs": [],
   "source": [
    "X = dataset.drop(columns=[\"Jumping\"])\n",
    "y = dataset[\"Jumping\"]\n",
    "\n",
    "X_train, X_test, y_train, y_test = train_test_split(X, y, test_size=0.25)"
   ]
  },
  {
   "cell_type": "markdown",
   "id": "9d5eff3e-5814-4d62-8a50-0cb5bf33ce34",
   "metadata": {},
   "source": [
    "- Configuração do grid search"
   ]
  },
  {
   "cell_type": "code",
   "execution_count": 2,
   "id": "bae44bda-9480-4284-9513-467d0a97f8b8",
   "metadata": {},
   "outputs": [],
   "source": [
    "parametros = {\n",
    "    'C' : [0,1, 1, 10, 100],\n",
    "    'gamma' : [1, 0.1, 0.01, 0.001],\n",
    "    'kernel' : ['rbf']\n",
    "}"
   ]
  },
  {
   "cell_type": "code",
   "execution_count": null,
   "id": "f379fb13-b62f-42f3-b881-54b8385eefa2",
   "metadata": {},
   "outputs": [],
   "source": [
    "from sklearn.svm import SVC\n",
    "\n",
    "grid = GridSearchCV(SVC(), parametros, refit=True, verbose=3, return_train_score=True)\n",
    "\n",
    "grid.fit(X_train, y_train)"
   ]
  },
  {
   "cell_type": "markdown",
   "id": "72f699b6-0535-48c6-bf8f-f10b8f748c93",
   "metadata": {},
   "source": [
    "- Mostra os resultados"
   ]
  },
  {
   "cell_type": "code",
   "execution_count": null,
   "id": "82326050-3df2-4c38-a186-668500dcf6b8",
   "metadata": {},
   "outputs": [],
   "source": [
    "results = pd.DataFrame(grid.cv_results)\n",
    "results"
   ]
  },
  {
   "cell_type": "code",
   "execution_count": null,
   "id": "4d4c2c04-ab5e-4aab-b76b-e7cc6dfac3e7",
   "metadata": {},
   "outputs": [],
   "source": [
    "print(grid.best_params_)\n",
    "print(grid.best_estimator_)"
   ]
  }
 ],
 "metadata": {
  "kernelspec": {
   "display_name": "Python 3 (ipykernel)",
   "language": "python",
   "name": "python3"
  },
  "language_info": {
   "codemirror_mode": {
    "name": "ipython",
    "version": 3
   },
   "file_extension": ".py",
   "mimetype": "text/x-python",
   "name": "python",
   "nbconvert_exporter": "python",
   "pygments_lexer": "ipython3",
   "version": "3.12.7"
  }
 },
 "nbformat": 4,
 "nbformat_minor": 5
}
