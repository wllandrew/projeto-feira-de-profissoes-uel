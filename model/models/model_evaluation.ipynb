{
 "cells": [
  {
   "cell_type": "markdown",
   "id": "61cdc2ef-7926-4b96-9448-de6c91aa2f69",
   "metadata": {},
   "source": [
    "## Avaliação dos modelos criados"
   ]
  },
  {
   "cell_type": "code",
   "execution_count": 73,
   "id": "a1173b0d-3971-4795-8ae4-43a815c6d66f",
   "metadata": {},
   "outputs": [],
   "source": [
    "import seaborn as sns\n",
    "import sklearn as skl\n",
    "import joblib as jb\n",
    "import pandas as pd\n",
    "import os"
   ]
  },
  {
   "cell_type": "code",
   "execution_count": 74,
   "id": "880dc0d5-9227-48ad-b822-61d04e964259",
   "metadata": {},
   "outputs": [],
   "source": [
    "models = [file for file in os.listdir(os.getcwd()) if file.endswith(\".pkl\")]"
   ]
  },
  {
   "cell_type": "code",
   "execution_count": 75,
   "id": "4b9b463d-9e5a-4a6a-9b26-4aa588a3d615",
   "metadata": {},
   "outputs": [],
   "source": [
    "from sklearn.model_selection import train_test_split, GridSearchCV"
   ]
  },
  {
   "cell_type": "code",
   "execution_count": 77,
   "id": "f6e36376-c6e1-42b0-be9c-c14220e341bf",
   "metadata": {},
   "outputs": [],
   "source": [
    "dataset = pd.read_csv(\"dataset_leo.csv\")"
   ]
  },
  {
   "cell_type": "code",
   "execution_count": 84,
   "id": "7a0fd092-b24a-458a-9bab-c1c141de0586",
   "metadata": {},
   "outputs": [],
   "source": [
    "X = dataset.drop(columns=[\"Jumping\"])\n",
    "y = dataset[\"Jumping\"]\n",
    "\n",
    "X_train, X_test, y_train, y_test = train_test_split(X.to_numpy(), y.to_numpy(), test_size=0.2)"
   ]
  },
  {
   "cell_type": "code",
   "execution_count": 85,
   "id": "e1a1e877-dadf-42a9-b8dc-f4acb16b27b1",
   "metadata": {},
   "outputs": [
    {
     "name": "stdout",
     "output_type": "stream",
     "text": [
      "{'C': 1, 'break_ties': False, 'cache_size': 200, 'class_weight': None, 'coef0': 0.0, 'decision_function_shape': 'ovr', 'degree': 3, 'gamma': 'scale', 'kernel': 'rbf', 'max_iter': -1, 'probability': True, 'random_state': None, 'shrinking': True, 'tol': 0.001, 'verbose': False}\n",
      "{'C': 1.0, 'break_ties': False, 'cache_size': 200, 'class_weight': None, 'coef0': 0.0, 'decision_function_shape': 'ovr', 'degree': 3, 'gamma': 'scale', 'kernel': 'rbf', 'max_iter': -1, 'probability': True, 'random_state': None, 'shrinking': True, 'tol': 0.001, 'verbose': False}\n"
     ]
    }
   ],
   "source": [
    "for model in models:\n",
    "    svc = jb.load(model)\n",
    "    print(svc.get_params())"
   ]
  },
  {
   "cell_type": "markdown",
   "id": "3a9ea3da-caab-4a58-81f1-e08c841f7e56",
   "metadata": {},
   "source": [
    "## Padrão:\n",
    "- C = 1\n",
    "- 'decision_functin_shape' = 'ovr'\n",
    "- 'degree' = 3\n",
    "- 'gamma' = 'scale'\n",
    "- kernel = 'rbf'"
   ]
  },
  {
   "cell_type": "code",
   "execution_count": 87,
   "id": "18676dc9-8896-4ea3-bb8a-5ec305dc751e",
   "metadata": {},
   "outputs": [
    {
     "name": "stdout",
     "output_type": "stream",
     "text": [
      "model_second_iteration.pkl\n",
      "              precision    recall  f1-score   support\n",
      "\n",
      "           0       0.25      1.00      0.40        14\n",
      "           1       0.00      0.00      0.00        42\n",
      "\n",
      "    accuracy                           0.25        56\n",
      "   macro avg       0.12      0.50      0.20        56\n",
      "weighted avg       0.06      0.25      0.10        56\n",
      "\n",
      "svm_model_test_2.pkl\n",
      "              precision    recall  f1-score   support\n",
      "\n",
      "           0       0.25      1.00      0.40        14\n",
      "           1       0.00      0.00      0.00        42\n",
      "\n",
      "    accuracy                           0.25        56\n",
      "   macro avg       0.12      0.50      0.20        56\n",
      "weighted avg       0.06      0.25      0.10        56\n",
      "\n"
     ]
    }
   ],
   "source": [
    "from sklearn.metrics import classification_report\n",
    "import warnings\n",
    "\n",
    "warnings.filterwarnings(\"ignore\")\n",
    "\n",
    "for model in models:\n",
    "    print(model)\n",
    "    svm = jb.load(model)\n",
    "    prediction = svm.predict(X_test)\n",
    "\n",
    "    print(classification_report(y_test, prediction))"
   ]
  },
  {
   "cell_type": "code",
   "execution_count": 82,
   "id": "4d057161-38b8-4922-9e61-dab61bbecd09",
   "metadata": {},
   "outputs": [
    {
     "name": "stdout",
     "output_type": "stream",
     "text": [
      "model_second_iteration.pkl\n",
      "0.23214285714285715\n",
      "svm_model_test_2.pkl\n",
      "0.23214285714285715\n"
     ]
    }
   ],
   "source": [
    "for model in models:\n",
    "    print(model)\n",
    "    svm = jb.load(model)\n",
    "    print(svm.score(X_test, y_test))"
   ]
  },
  {
   "cell_type": "code",
   "execution_count": 90,
   "id": "e577ac18-afc3-453c-8696-4de9d4f0581b",
   "metadata": {},
   "outputs": [
    {
     "name": "stdout",
     "output_type": "stream",
     "text": [
      "model_second_iteration.pkl\n"
     ]
    },
    {
     "data": {
      "text/plain": [
       "<Axes: >"
      ]
     },
     "metadata": {},
     "output_type": "display_data"
    },
    {
     "name": "stdout",
     "output_type": "stream",
     "text": [
      "svm_model_test_2.pkl\n"
     ]
    },
    {
     "data": {
      "text/plain": [
       "<Axes: >"
      ]
     },
     "metadata": {},
     "output_type": "display_data"
    },
    {
     "data": {
      "image/png": "[encoded data removed]",
      "text/plain": [
       "<Figure size 640x480 with 3 Axes>"
      ]
     },
     "metadata": {},
     "output_type": "display_data"
    }
   ],
   "source": [
    "from sklearn.metrics import confusion_matrix\n",
    "\n",
    "for model in models:\n",
    "    print(model)\n",
    "    svm = jb.load(model)\n",
    "\n",
    "    prediction = svm.predict(X_test)\n",
    "\n",
    "    cfm = confusion_matrix(y_test, prediction)\n",
    "\n",
    "    display(sns.heatmap(cfm, annot=True, fmt='d'))"
   ]
  },
  {
   "cell_type": "markdown",
   "id": "26c640b9-732e-4be4-808a-22099bac2be3",
   "metadata": {},
   "source": [
    "## Problemas:\n",
    "- O modelo atual está com dificuldades de classificar imagens pulando.\n",
    "- Há a necessidade de implementar um novo modelo, para que seja possível atuar sobre esses novos dados disponíveis."
   ]
  }
 ],
 "metadata": {
  "kernelspec": {
   "display_name": "Python 3 (ipykernel)",
   "language": "python",
   "name": "python3"
  },
  "language_info": {
   "codemirror_mode": {
    "name": "ipython",
    "version": 3
   },
   "file_extension": ".py",
   "mimetype": "text/x-python",
   "name": "python",
   "nbconvert_exporter": "python",
   "pygments_lexer": "ipython3",
   "version": "3.12.7"
  }
 },
 "nbformat": 4,
 "nbformat_minor": 5
}
