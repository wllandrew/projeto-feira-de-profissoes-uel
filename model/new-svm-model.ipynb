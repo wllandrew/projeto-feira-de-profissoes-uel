{
 "cells": [
  {
   "cell_type": "code",
   "execution_count": 43,
   "id": "fd3e008c",
   "metadata": {},
   "outputs": [],
   "source": [
    "from sklearn.model_selection import train_test_split\n",
    "from sklearn import svm\n",
    "import pandas as pd\n",
    "import os\n",
    "from PIL import Image\n",
    "import joblib"
   ]
  },
  {
   "cell_type": "code",
   "execution_count": 46,
   "id": "2f917dcc",
   "metadata": {},
   "outputs": [],
   "source": [
    "DATASET_PATH = os.path.join(os.getcwd(), 'jumping-dataset.csv')\n",
    "\n",
    "csv = pd.read_csv(DATASET_PATH)\n",
    "\n",
    "y = csv[\"Jumping\"]\n",
    "x = csv.drop(columns=[\"Jumping\"])\n",
    "\n",
    "X_train, X_test, y_train, y_test = train_test_split(x.div(255).to_numpy(), y.to_numpy(), test_size=0.2)"
   ]
  },
  {
   "cell_type": "code",
   "execution_count": 42,
   "id": "c854b455",
   "metadata": {},
   "outputs": [
    {
     "data": {
      "text/plain": [
       "array([1, 1, 1, ..., 0, 0, 0], shape=(1984,))"
      ]
     },
     "execution_count": 42,
     "metadata": {},
     "output_type": "execute_result"
    }
   ],
   "source": [
    "y.to_numpy()"
   ]
  },
  {
   "cell_type": "code",
   "execution_count": null,
   "id": "609b2107",
   "metadata": {},
   "outputs": [],
   "source": [
    "# model = svm.SVC(kernel='rbf', gamma='auto', probability=True)\n",
    "model = svm.SVC(kernel='linear', probability=True)\n",
    "model.fit(X_train, y_train)"
   ]
  },
  {
   "cell_type": "code",
   "execution_count": null,
   "id": "ef576e61",
   "metadata": {},
   "outputs": [],
   "source": [
    "score = model.score(X_test, y_test)\n",
    "probabilidades = model.predict_proba(X_test)"
   ]
  },
  {
   "cell_type": "code",
   "execution_count": null,
   "id": "0c159176",
   "metadata": {},
   "outputs": [],
   "source": [
    "for p in probabilidades:\n",
    "    print(f\"Não pulando: {p[0]*100:.1f}% | Pulando: {p[1]*100:.1f}%\")\n",
    "\n",
    "print(f'Score: {score:.2f}')"
   ]
  },
  {
   "cell_type": "code",
   "execution_count": null,
   "id": "2a03625c",
   "metadata": {},
   "outputs": [],
   "source": [
    "pred_litmit = 0.7\n",
    "bons_indices = [i for i, p in enumerate(probabilidades) if max(p) >= pred_litmit]\n",
    "bons_exemplos = [X_test[i] for i in bons_indices]\n",
    "\n",
    "for idx, e in enumerate(bons_exemplos):\n",
    "    arr = e.reshape(128, 128)  # 128*128 = 16384\n",
    "    img = Image.fromarray(arr.astype('uint8'))\n",
    "    os.makedirs('Registros_bons', exist_ok=True)\n",
    "    img.save(f\"Registros_bons/exemplo_{idx}.png\")\n"
   ]
  },
  {
   "cell_type": "code",
   "execution_count": null,
   "id": "dd060d83",
   "metadata": {},
   "outputs": [],
   "source": [
    "path_model = 'jumping-svm-model.pkl'\n",
    "joblib.dump(model, path_model)\n",
    "print(f\"Modelo salvo como {path_model}\")"
   ]
  }
 ],
 "metadata": {
  "kernelspec": {
   "display_name": "Python 3",
   "language": "python",
   "name": "python3"
  },
  "language_info": {
   "codemirror_mode": {
    "name": "ipython",
    "version": 3
   },
   "file_extension": ".py",
   "mimetype": "text/x-python",
   "name": "python",
   "nbconvert_exporter": "python",
   "pygments_lexer": "ipython3",
   "version": "3.12.10"
  }
 },
 "nbformat": 4,
 "nbformat_minor": 5
}
