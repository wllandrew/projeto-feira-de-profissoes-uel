{
 "cells": [
  {
   "cell_type": "code",
   "execution_count": 1,
   "id": "fd3e008c",
   "metadata": {},
   "outputs": [],
   "source": [
    "from sklearn.model_selection import train_test_split\n",
    "from sklearn import svm\n",
    "import pandas as pd\n",
    "import os\n",
    "import joblib"
   ]
  },
  {
   "cell_type": "code",
   "execution_count": 2,
   "id": "2f917dcc",
   "metadata": {},
   "outputs": [],
   "source": [
    "DATASET_PATH = os.path.join(os.getcwd(), 'dataset/dataset.csv')\n",
    "\n",
    "csv = pd.read_csv(DATASET_PATH)\n",
    "\n",
    "y = csv[\"Jumping\"]\n",
    "x = csv.drop(columns=[\"Jumping\"])\n",
    "\n",
    "X_train, X_test, y_train, y_test = train_test_split(x.to_numpy(), y.to_numpy(), test_size=0.2)"
   ]
  },
  {
   "cell_type": "code",
   "execution_count": null,
   "id": "609b2107",
   "metadata": {},
   "outputs": [],
   "source": [
    "model = svm.SVC(kernel='rbf', probability=True)\n",
    "# model = svm.SVC(kernel='linear', probability=True)\n",
    "model.fit(X_train, y_train)"
   ]
  },
  {
   "cell_type": "code",
   "execution_count": null,
   "id": "ef576e61",
   "metadata": {},
   "outputs": [],
   "source": [
    "score = model.score(X_test, y_test)\n",
    "probabilidades = model.predict_proba(X_test)"
   ]
  },
  {
   "cell_type": "code",
   "execution_count": null,
   "id": "0c159176",
   "metadata": {},
   "outputs": [],
   "source": [
    "for p in probabilidades:\n",
    "    print(f\"Não pulando: {p[0]*100:.1f}% | Pulando: {p[1]*100:.1f}%\")\n",
    "\n",
    "print(f'\\nScore: {score:.2f}')"
   ]
  },
  {
   "cell_type": "code",
   "execution_count": null,
   "id": "dd060d83",
   "metadata": {},
   "outputs": [],
   "source": [
    "path_model = 'models/svm_model_test_2.pkl'\n",
    "joblib.dump(model, path_model)\n",
    "print(f\"Modelo salvo como {path_model}\")"
   ]
  }
 ],
 "metadata": {
  "kernelspec": {
   "display_name": "Python 3 (ipykernel)",
   "language": "python",
   "name": "python3"
  },
  "language_info": {
   "codemirror_mode": {
    "name": "ipython",
    "version": 3
   },
   "file_extension": ".py",
   "mimetype": "text/x-python",
   "name": "python",
   "nbconvert_exporter": "python",
   "pygments_lexer": "ipython3",
   "version": "3.12.7"
  }
 },
 "nbformat": 4,
 "nbformat_minor": 5
}
