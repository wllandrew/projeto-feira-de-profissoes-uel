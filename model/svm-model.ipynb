{
 "cells": [
  {
   "cell_type": "markdown",
   "id": "3ede3d45-df54-4f67-806d-925351f59285",
   "metadata": {},
   "source": [
    "## Modelo de classificação SVM"
   ]
  },
  {
   "cell_type": "code",
   "execution_count": 1,
   "id": "b4e2fae7-c719-4887-a5fe-e9e3470a45bf",
   "metadata": {},
   "outputs": [],
   "source": [
    "import pandas as pd"
   ]
  },
  {
   "cell_type": "code",
   "execution_count": null,
   "id": "bf937e38-1b79-49d0-830c-12f9212ff17b",
   "metadata": {},
   "outputs": [],
   "source": [
    "csv = pd.read_csv(\"ans.csv\")\n",
    "csv"
   ]
  },
  {
   "cell_type": "code",
   "execution_count": null,
   "id": "ec713f83-72a7-4440-a852-68fe9d483583",
   "metadata": {},
   "outputs": [],
   "source": [
    "X = csv.drop(colums=[\"Class\"])\n",
    "y = csv[\"Class\"]"
   ]
  },
  {
   "cell_type": "code",
   "execution_count": null,
   "id": "dbd765eb-7bfb-4456-840f-f9e990ff7f89",
   "metadata": {},
   "outputs": [],
   "source": []
  }
 ],
 "metadata": {
  "kernelspec": {
   "display_name": "Python 3 (ipykernel)",
   "language": "python",
   "name": "python3"
  },
  "language_info": {
   "codemirror_mode": {
    "name": "ipython",
    "version": 3
   },
   "file_extension": ".py",
   "mimetype": "text/x-python",
   "name": "python",
   "nbconvert_exporter": "python",
   "pygments_lexer": "ipython3",
   "version": "3.12.7"
  }
 },
 "nbformat": 4,
 "nbformat_minor": 5
}
